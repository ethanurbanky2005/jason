{
  "cells": [
    {
      "cell_type": "markdown",
      "metadata": {
        "id": "view-in-github",
        "colab_type": "text"
      },
      "source": [
        "<a href=\"https://colab.research.google.com/github/ethanurbanky2005/jason/blob/main/Assignment06.ipynb\" target=\"_parent\"><img src=\"https://colab.research.google.com/assets/colab-badge.svg\" alt=\"Open In Colab\"/></a>"
      ]
    },
    {
      "cell_type": "markdown",
      "metadata": {
        "id": "Rn9k16CbnQLI"
      },
      "source": [
        "# Assignment 06\n",
        "## Learning outcomes\n",
        "This Assignment integrates knowledge and skills acquired in the last 5 Assignments – and extends it to Power analysis and Bayesian inference. The Assignment simultaneously serves as a practice for the open-book part of the midterm, which will be comparable in scope, length, and difficulty.\n",
        "\n",
        "In preparation for the midterm, try to solve the Assignment under time pressure and without help from co-pilot. Also practice to follow the Marking criteria:\n",
        "\n",
        "* All figures need to have a caption that explains in a few words what the figure shows.\n",
        "* All figures need to have labeled axes with units.\n",
        "* All written answers need to be in English full sentences.\n",
        "* You are only allowed to use the packages that are loaded in the cell below.\n",
        "* Your code needs to run by itself and locally on the computer of the grader, assuming that the data file is placed in the same folder as your notebook.\n",
        "* Before submitting, restart the notebook, run all cells, to see if it runs without errors.\n",
        "* Submit the notebook with all output.\n",
        "\n",
        "## Preliminaries\n",
        "Sets up the environment by importing pandas, numpy, matplotlib, and seaborn. Because we are using plots make sure that you configure your notebook such that plots are shown inline (see Assignment 2). Preliminaries are already taken care off in the workbook."
      ]
    },
    {
      "cell_type": "code",
      "execution_count": null,
      "metadata": {
        "id": "xIehrtRRnQLK"
      },
      "outputs": [],
      "source": [
        "import matplotlib\n",
        "import matplotlib.pyplot as plt\n",
        "import scipy.stats as ss\n",
        "import pandas as pd\n",
        "import numpy as np\n",
        "import seaborn as sb"
      ]
    },
    {
      "cell_type": "markdown",
      "metadata": {
        "id": "Kw2hdIrInQLK"
      },
      "source": [
        "## Task 1: Power and Bayesian hypothesis testing (40pt)\n",
        "### Question 1.1 (10pt)\n",
        "For this tasks we will use the medical advisor example from Assignment 5, Task 3. You are thinking about hiring a medical advisor for a liver transplant that had 100 cases and only 5 complications. The normal base rate of complications in North America is 10%. You are trying to decide between two hypotheses:\n",
        "\n",
        "H0: The Consultant does not impact the complication rate (i.e. p=0.1)\n",
        "\n",
        "H1: The Consultant halves the complication rate (i.e. p=0.05)\n",
        "\n",
        "Write a function that generates data (using the Monte-carlo function from last assignment), either assuming tha H0 is true, or assuming that H1 is true. The function should plot an overlapped histogram of the two distributions (see lecture slides). The function should then calculate and print out the p-value and the power for a decision citerion, where you reject the Null-hypothesis for a specific number of complications (or lower). Then run the function to calculate the probability that you falsely reject the Null-hypothesis, if you use reject the Null-hypothesis when observing 5 or fewer complications."
      ]
    },
    {
      "cell_type": "code",
      "execution_count": null,
      "metadata": {
        "id": "Inm3PZ6InQLL"
      },
      "outputs": [],
      "source": []
    },
    {
      "cell_type": "code",
      "execution_count": null,
      "metadata": {
        "id": "u-l5H3KVnQLL"
      },
      "outputs": [],
      "source": []
    },
    {
      "cell_type": "markdown",
      "metadata": {
        "id": "n7rCX0-dnQLL"
      },
      "source": [
        "### Question 1.2 (8 pt)\n",
        "According to current statistical standards (i.e., a critical p-value of 5%), would the decision to reject the Null be appropriate? How does the power calculation influence your thinking about this decision?"
      ]
    },
    {
      "cell_type": "markdown",
      "metadata": {
        "id": "JP3AgrSSnQLM"
      },
      "source": []
    },
    {
      "cell_type": "markdown",
      "metadata": {
        "id": "XxnafE-lnQLM"
      },
      "source": [
        "### Question 1.3 ( 7 pt)\n",
        "How the p-value and the power change if you decided to hire the advisor if there were 7 or less complications in 100 cases? Written answer: Would this be a better decision criterion than 5 case?"
      ]
    },
    {
      "cell_type": "code",
      "execution_count": null,
      "metadata": {
        "id": "D1teNzAhnQLM"
      },
      "outputs": [],
      "source": []
    },
    {
      "cell_type": "markdown",
      "metadata": {
        "id": "NgX0Hb7gnQLM"
      },
      "source": []
    },
    {
      "cell_type": "markdown",
      "metadata": {
        "id": "Yrgfwp2qnQLN"
      },
      "source": [
        "Written answer:"
      ]
    },
    {
      "cell_type": "markdown",
      "metadata": {
        "id": "hQTKPdQ6nQLN"
      },
      "source": [
        "### Question 1.4 (10pt)\n",
        "Write a function that again simulates data both under the H0 and H1, using similar code as in Question 1. Then calculate the Bayes-Factor BF(H1/H0). Finally report the posterior probability of the H1, assuming the prior probability was 0.5."
      ]
    },
    {
      "cell_type": "code",
      "execution_count": null,
      "metadata": {
        "id": "kU2YI1fInQLN"
      },
      "outputs": [],
      "source": []
    },
    {
      "cell_type": "code",
      "execution_count": null,
      "metadata": {
        "id": "zDUR5tjNnQLN"
      },
      "outputs": [],
      "source": []
    },
    {
      "cell_type": "markdown",
      "metadata": {
        "id": "mYdvtE9nnQLN"
      },
      "source": []
    },
    {
      "cell_type": "markdown",
      "metadata": {
        "id": "TJm2irPfnQLN"
      },
      "source": [
        "### Question 1.5: (5pt)\n",
        "How would you interpret the BF and the posterior probability?"
      ]
    },
    {
      "cell_type": "markdown",
      "metadata": {
        "id": "VmtoVuCLnQLO"
      },
      "source": []
    },
    {
      "cell_type": "markdown",
      "metadata": {
        "id": "mx_vgyZBnQLO"
      },
      "source": [
        "## Task 2: The relation between smoking and premature birth: Frequentist testing (25pt)\n",
        "The data for this task come from a random sample of 150 births from the birth records in the US state of North Carolina in 2004. The data contains 50 records from mothers that self-identified as having smoked on average more than 2 cigarettes per week during the pregnancy (smokers) and 100 mothers that smoked not at all or less than 2 cigarettes per week during the pregnancy.\n",
        "\n",
        "The data frame has 150 observations with the following 9 variables:\n",
        "\n",
        "- fAge: Father’s age.\n",
        "- mAge: Mother’s age.\n",
        "- weeks:  Weeks at which the mother gave birth.\n",
        "- premature: Indicates whether the baby was premature or not.\n",
        "- visits: Number of hospital visits.\n",
        "- gained: Weight gained by mother (lbs)\n",
        "- weight: Birth weight of the baby (lbs)\n",
        "- sexBaby: Gender of the baby\n",
        "- smoke:  Whether or not the mother self-reported to be a smoker.\n",
        "\n",
        "### Question 2.1 (8 pt)\n",
        "Calculate and report the mean birth weight of babies born by smoking and by non-smoking moms. Generate a violinplot of birth weight, with separate violins for smokers and non-smokers. Make sure that the two violins are plotted in the same graph, so the two groups can be directly compared. Written answer: What do you observe in terms of means and median for the two groups? Is the distribution symmetric, left-skewed, or right-skewed?"
      ]
    },
    {
      "cell_type": "code",
      "execution_count": null,
      "metadata": {
        "id": "nXf1GJj0nQLO"
      },
      "outputs": [],
      "source": []
    },
    {
      "cell_type": "code",
      "execution_count": null,
      "metadata": {
        "id": "VrP0Mwi1nQLO"
      },
      "outputs": [],
      "source": []
    },
    {
      "cell_type": "code",
      "execution_count": null,
      "metadata": {
        "id": "CHF0smDMnQLO"
      },
      "outputs": [],
      "source": []
    },
    {
      "cell_type": "markdown",
      "metadata": {
        "id": "Q2nuIc3xnQLO"
      },
      "source": []
    },
    {
      "cell_type": "markdown",
      "metadata": {
        "id": "W2rGiFUJnQLO"
      },
      "source": []
    },
    {
      "cell_type": "markdown",
      "metadata": {
        "collapsed": true,
        "id": "rCYwy_rYnQLO"
      },
      "source": [
        "### Question 2.2 (10pt)\n",
        "As a researcher, you want to test the idea that smoking during pregnancy has *some influence* on the baby's birthweight. Formulate Null- and Alternative hypothesis (using =, >, <, and unequal signs). Write a function that returns the difference of the average birth weights between babies of smoker and non-smokers. Use a randomization test to test whether (and with what Type-I error) you can reject the Null-hypothesis. Do you need to use a one-sided or two-sided test? Written answer: What is your conclusion?"
      ]
    },
    {
      "cell_type": "markdown",
      "metadata": {
        "id": "qCTwS17LnQLO"
      },
      "source": []
    },
    {
      "cell_type": "code",
      "execution_count": null,
      "metadata": {
        "id": "YPtiLSVznQLO"
      },
      "outputs": [],
      "source": []
    },
    {
      "cell_type": "code",
      "execution_count": null,
      "metadata": {
        "id": "waI_-H-6nQLO"
      },
      "outputs": [],
      "source": []
    },
    {
      "cell_type": "markdown",
      "metadata": {
        "id": "YILU3s-mnQLP"
      },
      "source": []
    },
    {
      "cell_type": "markdown",
      "metadata": {
        "id": "0Ul9ZtlgnQLP"
      },
      "source": []
    },
    {
      "cell_type": "markdown",
      "metadata": {
        "id": "_o8Uj_2CnQLP"
      },
      "source": [
        "### Question 2.3 (7 pt)\n",
        "You want to test the directed hypothesis that smoking is associated with a **lower** birth weight. Again, formulate Null and Alternative hypothesis. Use again a randomization test to see if you have evidence to reject the Null. Written answer: what is your conclusion?"
      ]
    },
    {
      "cell_type": "code",
      "execution_count": null,
      "metadata": {
        "id": "bbn5HpbunQLP"
      },
      "outputs": [],
      "source": []
    },
    {
      "cell_type": "markdown",
      "metadata": {
        "id": "eOu19XJGnQLP"
      },
      "source": []
    },
    {
      "cell_type": "markdown",
      "metadata": {
        "id": "4YE8vbYfnQLP"
      },
      "source": []
    },
    {
      "cell_type": "markdown",
      "metadata": {
        "id": "Ci_-5DBOnQLP"
      },
      "source": [
        "## Task 3: Smoke-related reduction in birth weight: Bayesian hypothesis testing (35pt)\n",
        "### Question 3.1 (10pt)\n",
        "Determine and report the mean and standard deviation of the mean differences in birth weight under the Null hypothesis (birth weights for smokers and non-smokers are equal) directly from the array of test statistics as obtained from the randomization test performed for Question 2.2.\n",
        "\n",
        "(Hint: you may have to rewrite the performRandomization function to return the list of test statistics)"
      ]
    },
    {
      "cell_type": "code",
      "execution_count": null,
      "metadata": {
        "id": "3fCf1YPonQLP"
      },
      "outputs": [],
      "source": []
    },
    {
      "cell_type": "markdown",
      "metadata": {
        "id": "MBn6EdStnQLP"
      },
      "source": [
        "### Question 3.2 (10pt)\n",
        "An average drop of birthweight of **0.5lbs** is considered to be clinically significant risk. Use a Bayesian hypothesis test to determine how strong the evidence is that smoking is associated with a clinically significant reduction in birth weight. Based on the shape of the distribution of the mean difference from the randomization test in Question 2.2, you decide that it is appropriate to use a normal approximation for the average weight difference, both under the H1 and H0. Further, you assume a standard error of the mean difference of 0.25lbs both for the H1 and the H0. Calculate the probability density for the real mean difference under H1 and H0. Then calculate and report the Bayes Factor of the H1 over the H0. What can you conclude from this result?  "
      ]
    },
    {
      "cell_type": "code",
      "execution_count": null,
      "metadata": {
        "id": "XVvYqEzanQLP"
      },
      "outputs": [],
      "source": []
    },
    {
      "cell_type": "markdown",
      "metadata": {
        "id": "ziSWb3nJnQLP"
      },
      "source": []
    },
    {
      "cell_type": "markdown",
      "metadata": {
        "id": "Jqc94T7snQLP"
      },
      "source": [
        "### Question 3.3 (7pt)\n",
        "What is the posterior probability of the H1, assuming that a-priori you had the belief that there was a 70% chance that smoking may reduce the birth weight by 0.5lb.  Use the results from task 3 question 2. Show clearly the formula used to calculate the posterior probability. Written answer: What is the meaning of this posterior probability? How does the meaning differ from the p-value calculated under Task 2, Question 3?"
      ]
    },
    {
      "cell_type": "code",
      "execution_count": null,
      "metadata": {
        "id": "z2dtw74KnQLW"
      },
      "outputs": [],
      "source": []
    },
    {
      "cell_type": "markdown",
      "metadata": {
        "id": "HjFBiMojnQLW"
      },
      "source": []
    },
    {
      "cell_type": "markdown",
      "metadata": {
        "id": "8AP9oRbUnQLW"
      },
      "source": [
        "### Question 3.4 (8pt)\n",
        "A news outlet picks up your result, saying that \"the study shows that smoking among US women causes an average decrease in birth weight of more than 0.4lbs.\" Can you draw this conclusion from the data? What are two possible problems with such claim?"
      ]
    },
    {
      "cell_type": "markdown",
      "metadata": {
        "id": "Adhh-o_VnQLW"
      },
      "source": []
    }
  ],
  "metadata": {
    "kernelspec": {
      "display_name": "Python 3 (ipykernel)",
      "language": "python",
      "name": "python3"
    },
    "language_info": {
      "codemirror_mode": {
        "name": "ipython",
        "version": 3
      },
      "file_extension": ".py",
      "mimetype": "text/x-python",
      "name": "python",
      "nbconvert_exporter": "python",
      "pygments_lexer": "ipython3",
      "version": "3.9.5"
    },
    "vscode": {
      "interpreter": {
        "hash": "3d597f4c481aa0f25dceb95d2a0067e73c0966dcbd003d741d821a7208527ecf"
      }
    },
    "colab": {
      "provenance": [],
      "include_colab_link": true
    }
  },
  "nbformat": 4,
  "nbformat_minor": 0
}